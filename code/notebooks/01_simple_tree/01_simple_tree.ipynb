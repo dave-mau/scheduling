{
 "cells": [
  {
   "cell_type": "code",
   "execution_count": 1,
   "metadata": {},
   "outputs": [
    {
     "name": "stdout",
     "output_type": "stream",
     "text": [
      "Using device: cuda\n"
     ]
    }
   ],
   "source": [
    "from IPython.display import display, clear_output\n",
    "import matplotlib.pyplot as plt\n",
    "import pathlib\n",
    "import sys\n",
    "from time import sleep\n",
    "import torch\n",
    "sys.path.insert(0, str(pathlib.Path(\"../..\").absolute()))\n",
    "\n",
    "from environment import TreeEnv\n",
    "from computation_sim.system import SystemDrawer\n",
    "from agents.metrics import MovingAverage, MovingTotal\n",
    "from agents.q_agent import DQNActor\n",
    "\n",
    "DEVICE = torch.device(\"cuda\" if torch.cuda.is_available() else \"cpu\")\n",
    "print(f\"Using device: {DEVICE}\")\n"
   ]
  },
  {
   "cell_type": "code",
   "execution_count": 2,
   "metadata": {},
   "outputs": [],
   "source": [
    "dt = 10\n",
    "params = {\n",
    "    \"environment\" : {\n",
    "        \"num_sensors\": 5,\n",
    "        \"dt\": dt,\n",
    "        \"cost_input\": 0.01,\n",
    "        \"cost_message_loss\": 1.0,\n",
    "        \"cost_output_time\": 0.1,\n",
    "    },\n",
    "    \"actor\" : {\n",
    "        \"learn_period\": int(100 / dt), # Update model every 100ms\n",
    "        \"memory_size\": 2 * 60 * int(1_000 / dt), # Memory spans a period of 2 minutes,\n",
    "        \"tau\" : dt / 2000.0, # Full model update after 2sec\n",
    "        \"batch_size\" : 1024, # Number of samples used in one optimization\n",
    "        \"gamma\": 0.9, # Hyperparam; not really of used in continuous task\n",
    "        \"epsilon_start\": 0.1,\n",
    "        \"epsilon_end\": 0.0,\n",
    "        \"epsilon_decay\" : 4 * 60 * int(1_000 / dt), # Half-life of epsilon decay: 4 minutes\n",
    "        \"lr\" : 1e-3,\n",
    "    },\n",
    "    \"num_sim_steps\": int(3_600_000 / dt) # train for 1h\n",
    "\n",
    "}"
   ]
  },
  {
   "cell_type": "code",
   "execution_count": 5,
   "metadata": {},
   "outputs": [
    {
     "data": {
      "application/vnd.jupyter.widget-view+json": {
       "model_id": "3e9eb5665f72496cb2d916806495314c",
       "version_major": 2,
       "version_minor": 0
      },
      "text/plain": [
       "FigureWidget({\n",
       "    'data': [{'hoverinfo': 'none',\n",
       "              'line': {'color': '#888', 'width': 1.0},\n",
       "              'mode': 'lines',\n",
       "              'showlegend': False,\n",
       "              'type': 'scatter',\n",
       "              'uid': 'f9317f19-b129-4d09-934f-81e045e648ab',\n",
       "              'x': [0.4642857142857143, 0.9642857142857143, None,\n",
       "                    0.4642857142857143, 0.9642857142857143, None,\n",
       "                    -0.5357142857142857, -0.035714285714285726, None,\n",
       "                    -0.035714285714285726, 0.4642857142857143, None,\n",
       "                    -0.035714285714285726, 0.4642857142857143, None,\n",
       "                    -0.5357142857142857, -0.035714285714285726, None,\n",
       "                    -0.035714285714285726, 0.4642857142857143, None,\n",
       "                    -0.035714285714285726, 0.4642857142857143, None,\n",
       "                    -0.5357142857142857, -0.035714285714285726, None,\n",
       "                    -0.035714285714285726, 0.4642857142857143, None,\n",
       "                    -0.035714285714285726, 0.4642857142857143, None,\n",
       "                    -0.5357142857142857, -0.035714285714285726, None,\n",
       "                    -0.035714285714285726, 0.4642857142857143, None,\n",
       "                    -0.035714285714285726, 0.4642857142857143, None,\n",
       "                    -0.5357142857142857, -0.035714285714285726, None,\n",
       "                    -0.035714285714285726, 0.4642857142857143, None,\n",
       "                    -0.035714285714285726, 0.4642857142857143, None],\n",
       "              'y': [-0.25, -0.25, None, -0.25, 0.25, None, -1.0, -1.0, None, -1.0,\n",
       "                    -0.25, None, -1.0, 0.25, None, -0.5, -0.5, None, -0.5, -0.25,\n",
       "                    None, -0.5, 0.25, None, 0.0, 0.0, None, 0.0, -0.25, None, 0.0,\n",
       "                    0.25, None, 0.5, 0.5, None, 0.5, -0.25, None, 0.5, 0.25, None,\n",
       "                    1.0, 1.0, None, 1.0, -0.25, None, 1.0, 0.25, None]},\n",
       "             {'hovertext': [is_occupied = 0.0<br>msg.age_oldest =\n",
       "                            0.0<br>msg.age_youngest = 0.0<br>msg.age_average = 0.0,\n",
       "                            num_messages = 0, num_messages = 0, is_busy =\n",
       "                            False<br>t_start_age = 0.0, , is_occupied =\n",
       "                            0.0<br>msg.age_oldest = 0.0<br>msg.age_youngest =\n",
       "                            0.0<br>msg.age_average = 0.0<br>, , is_occupied =\n",
       "                            0.0<br>msg.age_oldest = 0.0<br>msg.age_youngest =\n",
       "                            0.0<br>msg.age_average = 0.0<br>, , is_occupied =\n",
       "                            0.0<br>msg.age_oldest = 0.0<br>msg.age_youngest =\n",
       "                            0.0<br>msg.age_average = 0.0<br>, , is_occupied =\n",
       "                            0.0<br>msg.age_oldest = 0.0<br>msg.age_youngest =\n",
       "                            0.0<br>msg.age_average = 0.0<br>, , is_occupied =\n",
       "                            0.0<br>msg.age_oldest = 0.0<br>msg.age_youngest =\n",
       "                            0.0<br>msg.age_average = 0.0<br>],\n",
       "              'marker': {'color': [floralwhite, darkgrey, darkgrey, darkgreen,\n",
       "                                   floralwhite, darkgreen, floralwhite, darkgreen,\n",
       "                                   floralwhite, darkgreen, floralwhite, darkgreen,\n",
       "                                   floralwhite, darkgreen],\n",
       "                         'coloraxis': 'coloraxis',\n",
       "                         'line': {'width': 2},\n",
       "                         'showscale': False,\n",
       "                         'size': 20,\n",
       "                         'symbol': [circle, triangle-down, triangle-down, square,\n",
       "                                    triangle-up, square, triangle-up, square,\n",
       "                                    triangle-up, square, triangle-up, square,\n",
       "                                    triangle-up, square]},\n",
       "              'mode': 'markers+text',\n",
       "              'showlegend': False,\n",
       "              'text': [OUTPUT, LOST_BUFFER, LOST_COMPUTE, COMPUTE, SOURCE_0,\n",
       "                       BUFFER_0, SOURCE_1, BUFFER_1, SOURCE_2, BUFFER_2, SOURCE_3,\n",
       "                       BUFFER_3, SOURCE_4, BUFFER_4],\n",
       "              'textposition': 'top center',\n",
       "              'type': 'scatter',\n",
       "              'uid': 'db9279d9-72e3-4148-8626-15979b0aa246',\n",
       "              'x': [0.9642857142857143, 0.4642857142857143, 0.9642857142857143,\n",
       "                    0.4642857142857143, -0.5357142857142857, -0.035714285714285726,\n",
       "                    -0.5357142857142857, -0.035714285714285726,\n",
       "                    -0.5357142857142857, -0.035714285714285726,\n",
       "                    -0.5357142857142857, -0.035714285714285726,\n",
       "                    -0.5357142857142857, -0.035714285714285726],\n",
       "              'y': [-0.25, 0.25, 0.25, -0.25, -1.0, -1.0, -0.5, -0.5, 0.0, 0.0,\n",
       "                    0.5, 0.5, 1.0, 1.0]}],\n",
       "    'layout': {'autosize': True,\n",
       "               'coloraxis': {'colorbar': {'thickness': 0, 'ticklen': 0}, 'showscale': False},\n",
       "               'height': 400,\n",
       "               'hovermode': 'closest',\n",
       "               'margin': {'b': 20, 'l': 5, 'r': 5, 't': 40},\n",
       "               'showlegend': False,\n",
       "               'template': '...',\n",
       "               'title': {'font': {'size': 16}},\n",
       "               'width': 400,\n",
       "               'xaxis': {'showgrid': False, 'showticklabels': False, 'zeroline': False},\n",
       "               'yaxis': {'showgrid': False, 'showticklabels': False, 'zeroline': False}}\n",
       "})"
      ]
     },
     "metadata": {},
     "output_type": "display_data"
    }
   ],
   "source": [
    "env = TreeEnv(**params[\"environment\"])\n",
    "drawer = SystemDrawer()\n",
    "drawer.build(env.system.node_graph)\n",
    "drawer.fw.update_layout(autosize=True, width=400, height=400)\n",
    "clear_output(wait=True)\n",
    "display(drawer.fw)"
   ]
  },
  {
   "cell_type": "code",
   "execution_count": 15,
   "metadata": {},
   "outputs": [
    {
     "name": "stderr",
     "output_type": "stream",
     "text": [
      "/home/davidmauderli/.conda/envs/timesync-prototype/lib/python3.10/site-packages/torch/nn/init.py:452: UserWarning:\n",
      "\n",
      "Initializing zero-element tensors is a no-op\n",
      "\n"
     ]
    }
   ],
   "source": [
    "agent = DQNActor(num_states=env.observation_space.shape[0], num_actions=env.action_space.n, device=DEVICE, **params[\"actor\"])"
   ]
  }
 ],
 "metadata": {
  "kernelspec": {
   "display_name": "timesync-prototype",
   "language": "python",
   "name": "python3"
  },
  "language_info": {
   "codemirror_mode": {
    "name": "ipython",
    "version": 3
   },
   "file_extension": ".py",
   "mimetype": "text/x-python",
   "name": "python",
   "nbconvert_exporter": "python",
   "pygments_lexer": "ipython3",
   "version": "3.10.14"
  }
 },
 "nbformat": 4,
 "nbformat_minor": 2
}
